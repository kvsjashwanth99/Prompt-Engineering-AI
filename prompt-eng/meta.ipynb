{
 "cells": [
  {
   "cell_type": "markdown",
   "metadata": {},
   "source": [
    "\n",
    "\n"
   ]
  },
  {
   "cell_type": "markdown",
   "metadata": {},
   "source": [
    "# Meta Prompting\n",
    "\n",
    "Meta prompting is an advanced technique in prompt engineering that emphasizes the structural and syntactical organization of tasks and problems rather than focusing on their specific content. The objective is to create a more abstract, form-driven way of engaging with large language models (LLMs), highlighting patterns and structure over traditional content-focused methods.\n",
    "\n",
    "As outlined by [Zhang et al. (2024)](https://arxiv.org/abs/2311.11482), the defining features of meta prompting include:\n",
    "\n",
    "* Structure-Oriented: Prioritizes the organization and pattern of problems and solutions instead of specific content.\n",
    "* Syntax-Guided: Leverages syntax as a template to shape the expected responses or solutions.\n",
    "* Abstract Frameworks: Uses abstract examples as blueprints, demonstrating the structure of tasks without relying on concrete details.\n",
    "* Domain Versatility: Can be applied across multiple fields, offering structured solutions to diverse problem types.\n",
    "* Categorical Approach: Draws on type theory to organize and categorize components logically, enhancing prompt coherence and precision."
   ]
  },
  {
   "cell_type": "markdown",
   "metadata": {},
   "source": [
    "## Running this code on MyBind.org\n",
    "\n",
    "Note: remember that you will need to **adjust CONFIG** with **proper URL and API_KEY**!\n",
    "\n",
    "[![Binder](https://mybinder.org/badge_logo.svg)](https://mybinder.org/v2/gh/GenILab-FAU/prompt-eng/HEAD?urlpath=%2Fdoc%2Ftree%2Fprompt-eng%2Fmeta.ipynb)\n",
    "\n"
   ]
  },
  {
   "cell_type": "code",
   "execution_count": null,
   "metadata": {},
   "outputs": [
    {
     "name": "stdout",
     "output_type": "stream",
     "text": [
      "To calculate this, we need to know that the logarithm of 2 (base 10) is approximately 0.301.\n",
      "\n",
      "So,\n",
      "\n",
      "984 * log(2) ≈ 984 * 0.301\n",
      "≈ 295.584\n",
      "Time taken: 5.399s\n"
     ]
    }
   ],
   "source": [
    "# First prompt for functional requirements\n",
    "prompt_1 = f\"Given the description of a project: '{project_description}', what are the key functional requirements?\"\n",
    "response_1 = model_request(prompt_1)\n",
    "\n",
    "# Second prompt for non-functional requirements based on first response\n",
    "prompt_2 = f\"Based on the following functional requirements: '{response_1}', what are the key non-functional requirements?\"\n",
    "response_2 = model_request(prompt_2)\n",
    "\n",
    "print(response_1)\n",
    "print(response_2)\n",
    "\n",
    "Example 1:\n",
    "User Story: \"As a user, I want to reset my password if I forget it.\"\n",
    "Functional Requirements:\n",
    "- The system must provide a 'Forgot Password' link.\n",
    "- A verification email should be sent with a reset link.\n",
    "- The reset link should expire in 24 hours.\n",
    "Non-Functional Requirements:\n",
    "- The reset process should not take more than 10 seconds.\n",
    "- The system must comply with security best practices for password storage.\n",
    "- The reset link must be encrypted and secure.\n",
    "\n",
    "Example 2:\n",
    "User Story: \"As an admin, I want to manage user roles and permissions.\"\n",
    "Functional Requirements:\n",
    "- Admins can assign and revoke roles.\n",
    "- Users with specific roles should have limited access to features.\n",
    "- Changes to roles should be logged.\n",
    "Non-Functional Requirements:\n",
    "- Role updates should take effect immediately.\n",
    "- The system should log role changes with timestamps and admin details.\n",
    "- The UI should be intuitive and accessible for role management.\n",
    "\n",
    "\n"
   ]
  }
 ],
 "metadata": {
  "kernelspec": {
   "display_name": "Python 3",
   "language": "python",
   "name": "python3"
  },
  "language_info": {
   "codemirror_mode": {
    "name": "ipython",
    "version": 3
   },
   "file_extension": ".py",
   "mimetype": "text/x-python",
   "name": "python",
   "nbconvert_exporter": "python",
   "pygments_lexer": "ipython3",
   "version": "3.13.1"
  }
 },
 "nbformat": 4,
 "nbformat_minor": 2
}
